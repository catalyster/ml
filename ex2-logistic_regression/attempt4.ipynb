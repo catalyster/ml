{
 "cells": [
  {
   "cell_type": "markdown",
   "metadata": {},
   "source": [
    "# 线性判别分析进行二分类"
   ]
  },
  {
   "cell_type": "markdown",
   "metadata": {},
   "source": [
    "LDA的思想非常朴素：给定训练样例集，设法将样例投影到一条直线${\\omega}$上，使得同类样例的投影点尽可能靠近、异类样例点尽可能远离；在对新样本进行分类时，将其投影到直线${\\omega}$上，再根据投影点的位置来确定新样本的类别。"
   ]
  },
  {
   "cell_type": "code",
   "execution_count": 1,
   "metadata": {},
   "outputs": [],
   "source": [
    "import numpy as np\n",
    "import matplotlib.pyplot as plt\n",
    "import pandas as pd"
   ]
  },
  {
   "cell_type": "code",
   "execution_count": 2,
   "metadata": {},
   "outputs": [
    {
     "data": {
      "text/html": [
       "<div>\n",
       "<style scoped>\n",
       "    .dataframe tbody tr th:only-of-type {\n",
       "        vertical-align: middle;\n",
       "    }\n",
       "\n",
       "    .dataframe tbody tr th {\n",
       "        vertical-align: top;\n",
       "    }\n",
       "\n",
       "    .dataframe thead th {\n",
       "        text-align: right;\n",
       "    }\n",
       "</style>\n",
       "<table border=\"1\" class=\"dataframe\">\n",
       "  <thead>\n",
       "    <tr style=\"text-align: right;\">\n",
       "      <th></th>\n",
       "      <th>x1</th>\n",
       "      <th>x2</th>\n",
       "      <th>result</th>\n",
       "    </tr>\n",
       "  </thead>\n",
       "  <tbody>\n",
       "    <tr>\n",
       "      <th>0</th>\n",
       "      <td>-0.017612</td>\n",
       "      <td>14.053064</td>\n",
       "      <td>0</td>\n",
       "    </tr>\n",
       "    <tr>\n",
       "      <th>1</th>\n",
       "      <td>-1.395634</td>\n",
       "      <td>4.662541</td>\n",
       "      <td>1</td>\n",
       "    </tr>\n",
       "    <tr>\n",
       "      <th>2</th>\n",
       "      <td>-0.752157</td>\n",
       "      <td>6.538620</td>\n",
       "      <td>0</td>\n",
       "    </tr>\n",
       "    <tr>\n",
       "      <th>3</th>\n",
       "      <td>-1.322371</td>\n",
       "      <td>7.152853</td>\n",
       "      <td>0</td>\n",
       "    </tr>\n",
       "    <tr>\n",
       "      <th>4</th>\n",
       "      <td>0.423363</td>\n",
       "      <td>11.054677</td>\n",
       "      <td>0</td>\n",
       "    </tr>\n",
       "  </tbody>\n",
       "</table>\n",
       "</div>"
      ],
      "text/plain": [
       "         x1         x2  result\n",
       "0 -0.017612  14.053064       0\n",
       "1 -1.395634   4.662541       1\n",
       "2 -0.752157   6.538620       0\n",
       "3 -1.322371   7.152853       0\n",
       "4  0.423363  11.054677       0"
      ]
     },
     "execution_count": 2,
     "metadata": {},
     "output_type": "execute_result"
    }
   ],
   "source": [
    "path = 'ex2data3.txt'\n",
    "data = pd.read_csv(path, header=None, names=['x1', 'x2', 'result'])\n",
    "data.head()"
   ]
  },
  {
   "cell_type": "code",
   "execution_count": 3,
   "metadata": {},
   "outputs": [
    {
     "data": {
      "image/png": "[encoded data removed]",
      "text/plain": [
       "<Figure size 864x576 with 1 Axes>"
      ]
     },
     "metadata": {
      "needs_background": "light"
     },
     "output_type": "display_data"
    }
   ],
   "source": [
    "positive = data[data['result'].isin([1])]\n",
    "negative = data[data['result'].isin([0])]\n",
    "plt.figure(figsize=(12, 8))\n",
    "plt.scatter(positive['x1'], positive['x2'], c='r', s=50, marker='o', label = 'positive')\n",
    "plt.scatter(negative['x1'], negative['x2'], c='b', s=50, marker='x', label = 'negative')\n",
    "plt.legend()\n",
    "plt.xlabel('x1')\n",
    "plt.ylabel('x2')\n",
    "plt.title('data distribution')\n",
    "plt.show()"
   ]
  },
  {
   "cell_type": "markdown",
   "metadata": {},
   "source": [
    "令${X}_{i}$、${\\mu}_{i}$、${\\Sigma}_{i}$分别表示第${i}$类示例的集合、均值向量、协方差矩阵。若将数据投影到直线${\\omega}$上，则两类样本的中心在直线上的投影分别是${\\omega}^{T}{\\mu}_{0}$和${\\omega}^{T}{\\mu}_{1}$;协方差分别是${\\omega}^{T}{\\Sigma}_{0}{\\omega}$和${\\omega}^{T}{\\Sigma}_{1}{\\omega}$。"
   ]
  },
  {
   "cell_type": "markdown",
   "metadata": {},
   "source": [
    "想要使同类样例投影点尽可能接近，可以让同类投影点的协方差尽可能小，即${\\omega}^{T}{\\Sigma}_{0}{\\omega}+{\\omega}^{T}{\\Sigma}_{1}{\\omega}$尽可能小；而想要使异类样例的投影点尽可能远离，可以让类中心之间的距离尽可能大，即${||{\\omega}^{T}{\\mu}_{0}-{\\omega}^{T}{\\mu}_{1}||}_{2}^{2}$尽可能大。同时考虑两者，则可以得到最大化目标：\n",
    "$${J}\\left({\\omega}\\right)=\\frac{{||{\\omega}^{T}{\\mu}_{0}-{\\omega}^{T}{\\mu}_{1}||}_{2}^{2}}{{\\omega}^{T}{\\Sigma}_{0}{\\omega}+{\\omega}^{T}{\\Sigma}_{1}{\\omega}}=\\frac{{\\omega}^{T}{\\left({\\mu}_{0}-{\\mu}_{1}\\right)}{{\\left({\\mu}_{0}-{\\mu}_{1}\\right)}^{T}}{\\omega}}{{\\omega}^{T}\\left({\\Sigma}_{0}+{\\Sigma}_{1}\\right){\\omega}}$$"
   ]
  },
  {
   "cell_type": "markdown",
   "metadata": {},
   "source": [
    "定义“类内散度矩阵”\n",
    "$${S}_{\\omega}={\\Sigma}_{0}+{\\Sigma}_{1}$$\n",
    "定义“类间散度矩阵”\n",
    "$${S}_{b}={\\left({\\mu}_{0}-{\\mu}_{1}\\right)}{\\left({\\mu}_{0}-{\\mu}_{1}\\right)}^{T}$$\n",
    "所以目标函数可重写为\n",
    "$${J}\\left({\\omega}\\right)=\\frac{{\\omega}^{T}{S}_{b}{\\omega}}{{\\omega}^{T}{S}_{\\omega}{\\omega}}$$"
   ]
  },
  {
   "cell_type": "markdown",
   "metadata": {},
   "source": [
    "观察目标函数可知，分子分母都是关于${\\omega}$的二次项，所以该最大化解和${\\omega}$的长度无关，只和方向有关。可以令${\\omega}^{T}{S}_{\\omega}{\\omega}=1$,目标函数又可写为\n",
    "$${\\underset {x}{\\operatorname {arg\\,min}}}-{\\omega}^{T}{S}_{b}{\\omega}$$\n",
    "$${s.t.}{\\omega}^{T}{S}_{\\omega}{\\omega}=1$$\n",
    "由拉格朗日乘子法，上式等价于\n",
    "$${S}_{b}{\\omega}={\\lambda}{S}_{\\omega}{\\omega}$$\n",
    "其中${S}_{b}{\\omega}={\\left({\\mu}_{0}-{\\mu}_{1}\\right)}{\\left({\\mu}_{0}-{\\mu}_{1}\\right)}^{T}{\\omega}$的后两项相乘是实数，即${S}_{b}{\\omega}$的方向恒为${\\mu}_{0}-{\\mu}_{1}$。不妨令\n",
    "$${S}_{b}{\\omega}={\\lambda}\\left({\\mu}_{0}-{\\mu}_{1}\\right)$$\n",
    "代入上式可得\n",
    "$${\\omega}={S}_{\\omega}^{-1}\\left({\\mu}_{0}-{\\mu}_{1}\\right)$$"
   ]
  },
  {
   "cell_type": "code",
   "execution_count": 4,
   "metadata": {},
   "outputs": [],
   "source": [
    "cols = data.shape[1]\n",
    "positive = positive.iloc[:, 0:cols-1]\n",
    "negative = negative.iloc[:, 0:cols-1]\n",
    "\n",
    "positive = np.array(positive.values)\n",
    "negative = np.array(negative.values)"
   ]
  },
  {
   "cell_type": "markdown",
   "metadata": {},
   "source": [
    "求两类型样例的均值向量"
   ]
  },
  {
   "cell_type": "code",
   "execution_count": 5,
   "metadata": {},
   "outputs": [],
   "source": [
    "mu0 = np.mean(negative, axis=0)#压缩行\n",
    "mu1 = np.mean(positive, axis=0)"
   ]
  },
  {
   "cell_type": "markdown",
   "metadata": {},
   "source": [
    "求两类型样例的协方差矩阵"
   ]
  },
  {
   "cell_type": "code",
   "execution_count": 6,
   "metadata": {},
   "outputs": [],
   "source": [
    "Sigma0 = (negative-mu0).T@(negative-mu0)\n",
    "Sigma1 = (positive-mu1).T@(positive-mu1)"
   ]
  },
  {
   "cell_type": "markdown",
   "metadata": {},
   "source": [
    "求类内散度矩阵"
   ]
  },
  {
   "cell_type": "code",
   "execution_count": 7,
   "metadata": {},
   "outputs": [
    {
     "data": {
      "text/plain": [
       "array([[135.35903647, 131.52568101],\n",
       "       [131.52568101, 660.67023227]])"
      ]
     },
     "execution_count": 7,
     "metadata": {},
     "output_type": "execute_result"
    }
   ],
   "source": [
    "S_w = Sigma0+Sigma1\n",
    "S_w"
   ]
  },
  {
   "cell_type": "markdown",
   "metadata": {},
   "source": [
    "np.array对象求逆：np.linalg.inv(a)；求伪逆：np.linalg.pinv(a)  \n",
    "np.matrix对象求逆：a.I"
   ]
  },
  {
   "cell_type": "code",
   "execution_count": 8,
   "metadata": {},
   "outputs": [
    {
     "data": {
      "text/plain": [
       "array([[ 0.00915961, -0.00182349],\n",
       "       [-0.00182349,  0.00187663]])"
      ]
     },
     "execution_count": 8,
     "metadata": {},
     "output_type": "execute_result"
    }
   ],
   "source": [
    "S_w_inv = np.linalg.inv(S_w)\n",
    "S_w_inv"
   ]
  },
  {
   "cell_type": "markdown",
   "metadata": {},
   "source": [
    "求得直线${\\omega}$"
   ]
  },
  {
   "cell_type": "code",
   "execution_count": 9,
   "metadata": {},
   "outputs": [
    {
     "data": {
      "text/plain": [
       "array([-0.01313392,  0.01426317])"
      ]
     },
     "execution_count": 9,
     "metadata": {},
     "output_type": "execute_result"
    }
   ],
   "source": [
    "W = S_w_inv@(mu0-mu1).T\n",
    "W"
   ]
  },
  {
   "cell_type": "code",
   "execution_count": 10,
   "metadata": {},
   "outputs": [
    {
     "data": {
      "image/png": "[encoded data removed]",
      "text/plain": [
       "<Figure size 864x576 with 1 Axes>"
      ]
     },
     "metadata": {
      "needs_background": "light"
     },
     "output_type": "display_data"
    }
   ],
   "source": [
    "k = W[1]/W[0]#直线w的斜率\n",
    "x = np.linspace(data['x1'].min(), data['x2'].max())\n",
    "f = k*x\n",
    "\n",
    "plt.figure(figsize=(12, 8))\n",
    "plt.scatter(positive[:, 0], positive[:, 1], c='r', s=50, marker='o', label = 'positive')\n",
    "plt.scatter(negative[:, 0], negative[:, 1], c='b', s=50, marker='x', label = 'negative')\n",
    "plt.plot(x, f, c='g', label='prediction')\n",
    "plt.legend()\n",
    "plt.xlabel('x1')\n",
    "plt.ylabel('x2')\n",
    "plt.title('data distribution')\n",
    "plt.show()"
   ]
  },
  {
   "cell_type": "markdown",
   "metadata": {},
   "source": [
    "预测函数。把数据样例投影到直线${\\omega}$上，比较和两类样本中心投影的距离进行判定。"
   ]
  },
  {
   "cell_type": "code",
   "execution_count": 11,
   "metadata": {},
   "outputs": [],
   "source": [
    "def predict(W, X):\n",
    "    data_projection = W@X.T\n",
    "    positive_projection = W@mu1.T\n",
    "    negative_projection = W@mu0.T\n",
    "    positive_distance = np.power(data_projection - positive_projection, 2) #数据样例投影到1类中心投影的欧氏距离\n",
    "    negative_distance = np.power(data_projection - negative_projection, 2) #数据样例投影到0类中心投影的欧氏距离\n",
    "    compare = positive_distance - negative_distance #比较距离大小\n",
    "    return [1 if x < 0 else 0 for x in compare]"
   ]
  },
  {
   "cell_type": "code",
   "execution_count": 12,
   "metadata": {},
   "outputs": [],
   "source": [
    "X = np.array(data.iloc[:, 0:cols-1].values)\n",
    "y = np.array(data.iloc[:, cols-1:cols].values)"
   ]
  },
  {
   "cell_type": "code",
   "execution_count": 13,
   "metadata": {},
   "outputs": [
    {
     "name": "stdout",
     "output_type": "stream",
     "text": [
      "accuracy = 97%\n"
     ]
    }
   ],
   "source": [
    "predictions = predict(W, X) #返回list对象\n",
    "correct = [1 if ((a == 1 and b == 1) or (a == 0 and b == 0)) else 0 for (a, b) in zip(predictions, y)]\n",
    "accuracy = (sum(map(int, correct)) % len(correct))\n",
    "print ('accuracy = {0}%'.format(accuracy))"
   ]
  }
 ],
 "metadata": {
  "kernelspec": {
   "display_name": "Python 3",
   "language": "python",
   "name": "python3"
  },
  "language_info": {
   "codemirror_mode": {
    "name": "ipython",
    "version": 3
   },
   "file_extension": ".py",
   "mimetype": "text/x-python",
   "name": "python",
   "nbconvert_exporter": "python",
   "pygments_lexer": "ipython3",
   "version": "3.7.3"
  }
 },
 "nbformat": 4,
 "nbformat_minor": 4
}
